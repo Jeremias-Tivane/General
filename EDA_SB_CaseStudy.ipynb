{
 "cells": [
  {
   "cell_type": "markdown",
   "id": "ecac323c",
   "metadata": {},
   "source": [
    "# Standard Bank Data Analytics Project 20220530"
   ]
  },
  {
   "cell_type": "markdown",
   "id": "60ce616e",
   "metadata": {},
   "source": [
    " "
   ]
  },
  {
   "cell_type": "markdown",
   "id": "4d0b20f0",
   "metadata": {},
   "source": [
    "## Data Set Treatment"
   ]
  },
  {
   "cell_type": "markdown",
   "id": "8c1509ee",
   "metadata": {},
   "source": [
    "### 1. I opened the Dataset and saved it in the new CSV format file that is more suitable for ETL."
   ]
  },
  {
   "cell_type": "markdown",
   "id": "13091a79",
   "metadata": {},
   "source": [
    "### 2. After already in CSV format, i transform data from single column to tables structure using Excel POWER QUERY and save it."
   ]
  },
  {
   "cell_type": "markdown",
   "id": "4ed473be",
   "metadata": {},
   "source": [
    "### 3. Compress csv in tgz format and uploaded it to the GitHub repository, to ensure that the code runs in any location as long as it is connected to internet.\n"
   ]
  },
  {
   "cell_type": "markdown",
   "id": "9d782b12",
   "metadata": {},
   "source": [
    "##### Dataset link: https://raw.githubusercontent.com/Jeremias-Tivane/General/main/datasets/Data-analytics-project-dataset.tgz"
   ]
  },
  {
   "cell_type": "markdown",
   "id": "89a541dc",
   "metadata": {},
   "source": [
    "### 1.Setup"
   ]
  },
  {
   "cell_type": "code",
   "execution_count": 90,
   "id": "bbfcde13",
   "metadata": {},
   "outputs": [],
   "source": [
    "# Python ≥3.5 is required\n",
    "import sys\n",
    "assert sys.version_info >= (3, 5)\n",
    "\n",
    "# Scikit-Learn ≥0.20 is required\n",
    "import sklearn\n",
    "assert sklearn.__version__ >= \"0.20\"\n",
    "\n",
    "# Common imports\n",
    "import io\n",
    "import os\n",
    "import tarfile\n",
    "import warnings\n",
    "import numpy as np\n",
    "import pandas as pd\n",
    "import seaborn as sns\n",
    "import urllib.request\n",
    "import matplotlib.pyplot as plt\n",
    "warnings.filterwarnings('ignore')\n",
    "\n",
    "# To plot pretty figures\n",
    "%matplotlib inline\n",
    "import matplotlib as mpl\n",
    "import matplotlib.pyplot as plt\n",
    "mpl.rc('axes', labelsize=14)\n",
    "mpl.rc('xtick', labelsize=12)\n",
    "mpl.rc('ytick', labelsize=12)\n",
    "\n",
    "# Where to save the figures\n",
    "PROJECT_ROOT_DIR = \".\"\n",
    "CHAPTER_ID = \"end_to_end_project\"\n",
    "IMAGES_PATH = os.path.join(PROJECT_ROOT_DIR, \"images\", CHAPTER_ID)\n",
    "os.makedirs(IMAGES_PATH, exist_ok=True)\n",
    "\n",
    "def save_fig(fig_id, tight_layout=True, fig_extension=\"png\", resolution=300):\n",
    "    path = os.path.join(IMAGES_PATH, fig_id + \".\" + fig_extension)\n",
    "    print(\"Saving figure\", fig_id)\n",
    "    if tight_layout:\n",
    "        plt.tight_layout()\n",
    "    plt.savefig(path, format=fig_extension, dpi=resolution)"
   ]
  },
  {
   "cell_type": "markdown",
   "id": "95371a2f",
   "metadata": {},
   "source": [
    "### 2.Get the Data"
   ]
  },
  {
   "cell_type": "markdown",
   "id": "e306a59b",
   "metadata": {},
   "source": [
    "#### 2.1.Download the Data"
   ]
  },
  {
   "cell_type": "code",
   "execution_count": null,
   "id": "18d5de22",
   "metadata": {},
   "outputs": [],
   "source": [
    "#Download file data\n",
    "DOWNLOAD_ROOT = \"https://raw.githubusercontent.com/Jeremias-Tivane/General/main/\"\n",
    "HOUSING_PATH = os.path.join(\"datasets\", \"eda\")\n",
    "HOUSING_URL = DOWNLOAD_ROOT + \"datasets/Data-analytics-project-dataset.tgz\"\n",
    "\n",
    "def fetch_housing_data(housing_url=HOUSING_URL, housing_path=HOUSING_PATH):\n",
    "    if not os.path.isdir(housing_path):\n",
    "        os.makedirs(housing_path)\n",
    "    tgz_path = os.path.join(housing_path, \"eda.tgz\")\n",
    "    urllib.request.urlretrieve(housing_url, tgz_path)\n",
    "    housing_tgz = tarfile.open(tgz_path)\n",
    "    housing_tgz.extractall(path=housing_path)\n",
    "    housing_tgz.close()"
   ]
  },
  {
   "cell_type": "code",
   "execution_count": null,
   "id": "9582b7b8",
   "metadata": {},
   "outputs": [],
   "source": [
    "fetch_housing_data()"
   ]
  },
  {
   "cell_type": "code",
   "execution_count": 8,
   "id": "470ee306",
   "metadata": {},
   "outputs": [],
   "source": [
    "#Loading data\n",
    "def load_eda_data(housing_path=HOUSING_PATH):\n",
    "    csv_path = os.path.join(housing_path, \"Data-analytics-project-dataset.csv\")\n",
    "    return pd.read_csv(csv_path)"
   ]
  },
  {
   "cell_type": "markdown",
   "id": "224da958",
   "metadata": {},
   "source": [
    "### 3.Take a Quick Look at the Data Structure\n"
   ]
  },
  {
   "cell_type": "markdown",
   "id": "0e4419b7",
   "metadata": {},
   "source": [
    "#### 3.1.Reading Data"
   ]
  },
  {
   "cell_type": "code",
   "execution_count": 9,
   "id": "1d0718d0",
   "metadata": {
    "scrolled": true
   },
   "outputs": [
    {
     "data": {
      "text/html": [
       "<div>\n",
       "<style scoped>\n",
       "    .dataframe tbody tr th:only-of-type {\n",
       "        vertical-align: middle;\n",
       "    }\n",
       "\n",
       "    .dataframe tbody tr th {\n",
       "        vertical-align: top;\n",
       "    }\n",
       "\n",
       "    .dataframe thead th {\n",
       "        text-align: right;\n",
       "    }\n",
       "</style>\n",
       "<table border=\"1\" class=\"dataframe\">\n",
       "  <thead>\n",
       "    <tr style=\"text-align: right;\">\n",
       "      <th></th>\n",
       "      <th>InsurProductID</th>\n",
       "      <th>InsurCustomerID</th>\n",
       "      <th>Sub Seg</th>\n",
       "      <th>Insurance Currency</th>\n",
       "      <th>Insur Sub Name</th>\n",
       "      <th>Insur Bank Related</th>\n",
       "      <th>Insur PackName</th>\n",
       "      <th>Product Status</th>\n",
       "      <th>Insur Value</th>\n",
       "      <th>Insur Open Date</th>\n",
       "      <th>...</th>\n",
       "      <th>NO_OF_TRXNS202007</th>\n",
       "      <th>NO_OF_TRXNS202008</th>\n",
       "      <th>NO_OF_TRXNS202009</th>\n",
       "      <th>NO_OF_TRXNS202010</th>\n",
       "      <th>TURNOVER202005</th>\n",
       "      <th>TURNOVER202006</th>\n",
       "      <th>TURNOVER202007</th>\n",
       "      <th>TURNOVER202008</th>\n",
       "      <th>TURNOVER202009</th>\n",
       "      <th>TURNOVER202010</th>\n",
       "    </tr>\n",
       "  </thead>\n",
       "  <tbody>\n",
       "    <tr>\n",
       "      <th>0</th>\n",
       "      <td>LFC484L84</td>\n",
       "      <td>475143751</td>\n",
       "      <td>EXCELLENCE</td>\n",
       "      <td>MZN</td>\n",
       "      <td>SEGURO DE VIDA</td>\n",
       "      <td>BANK PRODUCTS RELATED</td>\n",
       "      <td>LIFE</td>\n",
       "      <td>ACTIVE</td>\n",
       "      <td>0.0</td>\n",
       "      <td>3/26/2013 0:00</td>\n",
       "      <td>...</td>\n",
       "      <td>61.0</td>\n",
       "      <td>83.0</td>\n",
       "      <td>61.0</td>\n",
       "      <td>59.0</td>\n",
       "      <td>238558.202800</td>\n",
       "      <td>262221.488800</td>\n",
       "      <td>301020.335</td>\n",
       "      <td>229569.026300</td>\n",
       "      <td>226266.91480</td>\n",
       "      <td>217867.911800</td>\n",
       "    </tr>\n",
       "    <tr>\n",
       "      <th>1</th>\n",
       "      <td>HOC484H84</td>\n",
       "      <td>475143751</td>\n",
       "      <td>EXCELLENCE</td>\n",
       "      <td>MZN</td>\n",
       "      <td>SEGURO DE INC�NDIO HABITA��O</td>\n",
       "      <td>BANK PRODUCTS RELATED</td>\n",
       "      <td>HOUSE.OWNER</td>\n",
       "      <td>ACTIVE</td>\n",
       "      <td>0.0</td>\n",
       "      <td>3/26/2013 0:00</td>\n",
       "      <td>...</td>\n",
       "      <td>61.0</td>\n",
       "      <td>83.0</td>\n",
       "      <td>61.0</td>\n",
       "      <td>59.0</td>\n",
       "      <td>238558.202800</td>\n",
       "      <td>262221.488800</td>\n",
       "      <td>301020.335</td>\n",
       "      <td>229569.026300</td>\n",
       "      <td>226266.91480</td>\n",
       "      <td>217867.911800</td>\n",
       "    </tr>\n",
       "    <tr>\n",
       "      <th>2</th>\n",
       "      <td>SBS025S25</td>\n",
       "      <td>628865188</td>\n",
       "      <td>GENNESIS</td>\n",
       "      <td>MZN</td>\n",
       "      <td>PLANO SALARIO</td>\n",
       "      <td>NON BANK RELATED</td>\n",
       "      <td>SP.BLUE</td>\n",
       "      <td>CANCELLED</td>\n",
       "      <td>0.0</td>\n",
       "      <td>7/3/2018 0:00</td>\n",
       "      <td>...</td>\n",
       "      <td>8.0</td>\n",
       "      <td>7.0</td>\n",
       "      <td>18.0</td>\n",
       "      <td>11.0</td>\n",
       "      <td>7968.063462</td>\n",
       "      <td>7377.836538</td>\n",
       "      <td>8043.900</td>\n",
       "      <td>9608.753222</td>\n",
       "      <td>9207.52363</td>\n",
       "      <td>8935.090323</td>\n",
       "    </tr>\n",
       "    <tr>\n",
       "      <th>3</th>\n",
       "      <td>SBS149S49</td>\n",
       "      <td>169913599</td>\n",
       "      <td>PMO2</td>\n",
       "      <td>MZN</td>\n",
       "      <td>NaN</td>\n",
       "      <td>NON BANK RELATED</td>\n",
       "      <td>NaN</td>\n",
       "      <td>ACTIVE</td>\n",
       "      <td>0.0</td>\n",
       "      <td>7/31/2019 0:00</td>\n",
       "      <td>...</td>\n",
       "      <td>NaN</td>\n",
       "      <td>NaN</td>\n",
       "      <td>NaN</td>\n",
       "      <td>NaN</td>\n",
       "      <td>NaN</td>\n",
       "      <td>NaN</td>\n",
       "      <td>NaN</td>\n",
       "      <td>NaN</td>\n",
       "      <td>NaN</td>\n",
       "      <td>NaN</td>\n",
       "    </tr>\n",
       "    <tr>\n",
       "      <th>4</th>\n",
       "      <td>SBS005S05</td>\n",
       "      <td>558654486</td>\n",
       "      <td>FAMMILY</td>\n",
       "      <td>MZN</td>\n",
       "      <td>NaN</td>\n",
       "      <td>NON BANK RELATED</td>\n",
       "      <td>NaN</td>\n",
       "      <td>ACTIVE</td>\n",
       "      <td>0.0</td>\n",
       "      <td>9/12/2019 0:00</td>\n",
       "      <td>...</td>\n",
       "      <td>24.0</td>\n",
       "      <td>31.0</td>\n",
       "      <td>26.0</td>\n",
       "      <td>52.0</td>\n",
       "      <td>370471.997200</td>\n",
       "      <td>251616.888800</td>\n",
       "      <td>61927.235</td>\n",
       "      <td>73461.539000</td>\n",
       "      <td>53934.81200</td>\n",
       "      <td>145213.386900</td>\n",
       "    </tr>\n",
       "  </tbody>\n",
       "</table>\n",
       "<p>5 rows × 26 columns</p>\n",
       "</div>"
      ],
      "text/plain": [
       "  InsurProductID  InsurCustomerID     Sub Seg Insurance Currency  \\\n",
       "0      LFC484L84        475143751  EXCELLENCE                MZN   \n",
       "1      HOC484H84        475143751  EXCELLENCE                MZN   \n",
       "2      SBS025S25        628865188    GENNESIS                MZN   \n",
       "3      SBS149S49        169913599        PMO2                MZN   \n",
       "4      SBS005S05        558654486     FAMMILY                MZN   \n",
       "\n",
       "                 Insur Sub Name     Insur Bank Related Insur PackName  \\\n",
       "0                SEGURO DE VIDA  BANK PRODUCTS RELATED           LIFE   \n",
       "1  SEGURO DE INC�NDIO HABITA��O  BANK PRODUCTS RELATED    HOUSE.OWNER   \n",
       "2                 PLANO SALARIO       NON BANK RELATED        SP.BLUE   \n",
       "3                           NaN       NON BANK RELATED            NaN   \n",
       "4                           NaN       NON BANK RELATED            NaN   \n",
       "\n",
       "  Product Status  Insur Value Insur Open Date  ... NO_OF_TRXNS202007  \\\n",
       "0         ACTIVE          0.0  3/26/2013 0:00  ...              61.0   \n",
       "1         ACTIVE          0.0  3/26/2013 0:00  ...              61.0   \n",
       "2      CANCELLED          0.0   7/3/2018 0:00  ...               8.0   \n",
       "3         ACTIVE          0.0  7/31/2019 0:00  ...               NaN   \n",
       "4         ACTIVE          0.0  9/12/2019 0:00  ...              24.0   \n",
       "\n",
       "  NO_OF_TRXNS202008 NO_OF_TRXNS202009 NO_OF_TRXNS202010  TURNOVER202005  \\\n",
       "0              83.0              61.0              59.0   238558.202800   \n",
       "1              83.0              61.0              59.0   238558.202800   \n",
       "2               7.0              18.0              11.0     7968.063462   \n",
       "3               NaN               NaN               NaN             NaN   \n",
       "4              31.0              26.0              52.0   370471.997200   \n",
       "\n",
       "   TURNOVER202006  TURNOVER202007  TURNOVER202008  TURNOVER202009  \\\n",
       "0   262221.488800      301020.335   229569.026300    226266.91480   \n",
       "1   262221.488800      301020.335   229569.026300    226266.91480   \n",
       "2     7377.836538        8043.900     9608.753222      9207.52363   \n",
       "3             NaN             NaN             NaN             NaN   \n",
       "4   251616.888800       61927.235    73461.539000     53934.81200   \n",
       "\n",
       "   TURNOVER202010  \n",
       "0   217867.911800  \n",
       "1   217867.911800  \n",
       "2     8935.090323  \n",
       "3             NaN  \n",
       "4   145213.386900  \n",
       "\n",
       "[5 rows x 26 columns]"
      ]
     },
     "execution_count": 9,
     "metadata": {},
     "output_type": "execute_result"
    }
   ],
   "source": [
    "#Reading Data\n",
    "eda = load_eda_data()\n",
    "eda.head()"
   ]
  },
  {
   "cell_type": "markdown",
   "id": "ddb8a9e5",
   "metadata": {},
   "source": [
    "#### 3.2.Reading tail data"
   ]
  },
  {
   "cell_type": "code",
   "execution_count": 10,
   "id": "007eec66",
   "metadata": {
    "scrolled": true
   },
   "outputs": [
    {
     "data": {
      "text/html": [
       "<div>\n",
       "<style scoped>\n",
       "    .dataframe tbody tr th:only-of-type {\n",
       "        vertical-align: middle;\n",
       "    }\n",
       "\n",
       "    .dataframe tbody tr th {\n",
       "        vertical-align: top;\n",
       "    }\n",
       "\n",
       "    .dataframe thead th {\n",
       "        text-align: right;\n",
       "    }\n",
       "</style>\n",
       "<table border=\"1\" class=\"dataframe\">\n",
       "  <thead>\n",
       "    <tr style=\"text-align: right;\">\n",
       "      <th></th>\n",
       "      <th>InsurProductID</th>\n",
       "      <th>InsurCustomerID</th>\n",
       "      <th>Sub Seg</th>\n",
       "      <th>Insurance Currency</th>\n",
       "      <th>Insur Sub Name</th>\n",
       "      <th>Insur Bank Related</th>\n",
       "      <th>Insur PackName</th>\n",
       "      <th>Product Status</th>\n",
       "      <th>Insur Value</th>\n",
       "      <th>Insur Open Date</th>\n",
       "      <th>...</th>\n",
       "      <th>NO_OF_TRXNS202007</th>\n",
       "      <th>NO_OF_TRXNS202008</th>\n",
       "      <th>NO_OF_TRXNS202009</th>\n",
       "      <th>NO_OF_TRXNS202010</th>\n",
       "      <th>TURNOVER202005</th>\n",
       "      <th>TURNOVER202006</th>\n",
       "      <th>TURNOVER202007</th>\n",
       "      <th>TURNOVER202008</th>\n",
       "      <th>TURNOVER202009</th>\n",
       "      <th>TURNOVER202010</th>\n",
       "    </tr>\n",
       "  </thead>\n",
       "  <tbody>\n",
       "    <tr>\n",
       "      <th>84392</th>\n",
       "      <td>SBL130S30</td>\n",
       "      <td>586156461</td>\n",
       "      <td>GENNESIS</td>\n",
       "      <td>MZN</td>\n",
       "      <td>PLANO VIDA STANDALONE</td>\n",
       "      <td>NON BANK RELATED</td>\n",
       "      <td>LIFE.BLUE</td>\n",
       "      <td>ACTIVE</td>\n",
       "      <td>200.0</td>\n",
       "      <td>8/27/2020 0:00</td>\n",
       "      <td>...</td>\n",
       "      <td>NaN</td>\n",
       "      <td>NaN</td>\n",
       "      <td>NaN</td>\n",
       "      <td>NaN</td>\n",
       "      <td>NaN</td>\n",
       "      <td>NaN</td>\n",
       "      <td>NaN</td>\n",
       "      <td>NaN</td>\n",
       "      <td>NaN</td>\n",
       "      <td>NaN</td>\n",
       "    </tr>\n",
       "    <tr>\n",
       "      <th>84393</th>\n",
       "      <td>SBL027S27</td>\n",
       "      <td>587553575</td>\n",
       "      <td>GENNESIS</td>\n",
       "      <td>MZN</td>\n",
       "      <td>PLANO VIDA STANDALONE</td>\n",
       "      <td>NON BANK RELATED</td>\n",
       "      <td>LIFE.BLUE</td>\n",
       "      <td>ACTIVE</td>\n",
       "      <td>200.0</td>\n",
       "      <td>8/27/2020 0:00</td>\n",
       "      <td>...</td>\n",
       "      <td>NaN</td>\n",
       "      <td>NaN</td>\n",
       "      <td>NaN</td>\n",
       "      <td>NaN</td>\n",
       "      <td>NaN</td>\n",
       "      <td>NaN</td>\n",
       "      <td>NaN</td>\n",
       "      <td>NaN</td>\n",
       "      <td>NaN</td>\n",
       "      <td>NaN</td>\n",
       "    </tr>\n",
       "    <tr>\n",
       "      <th>84394</th>\n",
       "      <td>SBL093S93</td>\n",
       "      <td>603760737</td>\n",
       "      <td>GENNESIS</td>\n",
       "      <td>MZN</td>\n",
       "      <td>PLANO VIDA STANDALONE</td>\n",
       "      <td>NON BANK RELATED</td>\n",
       "      <td>LIFE.BLUE</td>\n",
       "      <td>ACTIVE</td>\n",
       "      <td>200.0</td>\n",
       "      <td>8/27/2020 0:00</td>\n",
       "      <td>...</td>\n",
       "      <td>0.0</td>\n",
       "      <td>0.0</td>\n",
       "      <td>0.0</td>\n",
       "      <td>0.0</td>\n",
       "      <td>0.0</td>\n",
       "      <td>0.0</td>\n",
       "      <td>0.0</td>\n",
       "      <td>0.0</td>\n",
       "      <td>0.000000</td>\n",
       "      <td>0.000000</td>\n",
       "    </tr>\n",
       "    <tr>\n",
       "      <th>84395</th>\n",
       "      <td>SBL202S02</td>\n",
       "      <td>641568115</td>\n",
       "      <td>GENNESIS</td>\n",
       "      <td>MZN</td>\n",
       "      <td>PLANO VIDA STANDALONE</td>\n",
       "      <td>NON BANK RELATED</td>\n",
       "      <td>LIFE.BLUE</td>\n",
       "      <td>ACTIVE</td>\n",
       "      <td>200.0</td>\n",
       "      <td>8/27/2020 0:00</td>\n",
       "      <td>...</td>\n",
       "      <td>0.0</td>\n",
       "      <td>0.0</td>\n",
       "      <td>5.0</td>\n",
       "      <td>7.0</td>\n",
       "      <td>0.0</td>\n",
       "      <td>0.0</td>\n",
       "      <td>0.0</td>\n",
       "      <td>0.0</td>\n",
       "      <td>5585.644981</td>\n",
       "      <td>4989.665887</td>\n",
       "    </tr>\n",
       "    <tr>\n",
       "      <th>84396</th>\n",
       "      <td>SBL203S03</td>\n",
       "      <td>641668116</td>\n",
       "      <td>GENNESIS</td>\n",
       "      <td>MZN</td>\n",
       "      <td>PLANO VIDA STANDALONE</td>\n",
       "      <td>NON BANK RELATED</td>\n",
       "      <td>LIFE.BLUE</td>\n",
       "      <td>ACTIVE</td>\n",
       "      <td>200.0</td>\n",
       "      <td>8/27/2020 0:00</td>\n",
       "      <td>...</td>\n",
       "      <td>0.0</td>\n",
       "      <td>0.0</td>\n",
       "      <td>2.0</td>\n",
       "      <td>3.0</td>\n",
       "      <td>NaN</td>\n",
       "      <td>NaN</td>\n",
       "      <td>NaN</td>\n",
       "      <td>NaN</td>\n",
       "      <td>NaN</td>\n",
       "      <td>NaN</td>\n",
       "    </tr>\n",
       "  </tbody>\n",
       "</table>\n",
       "<p>5 rows × 26 columns</p>\n",
       "</div>"
      ],
      "text/plain": [
       "      InsurProductID  InsurCustomerID   Sub Seg Insurance Currency  \\\n",
       "84392      SBL130S30        586156461  GENNESIS                MZN   \n",
       "84393      SBL027S27        587553575  GENNESIS                MZN   \n",
       "84394      SBL093S93        603760737  GENNESIS                MZN   \n",
       "84395      SBL202S02        641568115  GENNESIS                MZN   \n",
       "84396      SBL203S03        641668116  GENNESIS                MZN   \n",
       "\n",
       "              Insur Sub Name Insur Bank Related Insur PackName Product Status  \\\n",
       "84392  PLANO VIDA STANDALONE   NON BANK RELATED      LIFE.BLUE         ACTIVE   \n",
       "84393  PLANO VIDA STANDALONE   NON BANK RELATED      LIFE.BLUE         ACTIVE   \n",
       "84394  PLANO VIDA STANDALONE   NON BANK RELATED      LIFE.BLUE         ACTIVE   \n",
       "84395  PLANO VIDA STANDALONE   NON BANK RELATED      LIFE.BLUE         ACTIVE   \n",
       "84396  PLANO VIDA STANDALONE   NON BANK RELATED      LIFE.BLUE         ACTIVE   \n",
       "\n",
       "       Insur Value Insur Open Date  ... NO_OF_TRXNS202007 NO_OF_TRXNS202008  \\\n",
       "84392        200.0  8/27/2020 0:00  ...               NaN               NaN   \n",
       "84393        200.0  8/27/2020 0:00  ...               NaN               NaN   \n",
       "84394        200.0  8/27/2020 0:00  ...               0.0               0.0   \n",
       "84395        200.0  8/27/2020 0:00  ...               0.0               0.0   \n",
       "84396        200.0  8/27/2020 0:00  ...               0.0               0.0   \n",
       "\n",
       "      NO_OF_TRXNS202009 NO_OF_TRXNS202010  TURNOVER202005  TURNOVER202006  \\\n",
       "84392               NaN               NaN             NaN             NaN   \n",
       "84393               NaN               NaN             NaN             NaN   \n",
       "84394               0.0               0.0             0.0             0.0   \n",
       "84395               5.0               7.0             0.0             0.0   \n",
       "84396               2.0               3.0             NaN             NaN   \n",
       "\n",
       "       TURNOVER202007  TURNOVER202008  TURNOVER202009  TURNOVER202010  \n",
       "84392             NaN             NaN             NaN             NaN  \n",
       "84393             NaN             NaN             NaN             NaN  \n",
       "84394             0.0             0.0        0.000000        0.000000  \n",
       "84395             0.0             0.0     5585.644981     4989.665887  \n",
       "84396             NaN             NaN             NaN             NaN  \n",
       "\n",
       "[5 rows x 26 columns]"
      ]
     },
     "execution_count": 10,
     "metadata": {},
     "output_type": "execute_result"
    }
   ],
   "source": [
    "#Reading tail data\n",
    "eda.tail()"
   ]
  },
  {
   "cell_type": "markdown",
   "id": "80e99fe6",
   "metadata": {},
   "source": [
    "#### 3.3.Count of total rows and columns"
   ]
  },
  {
   "cell_type": "code",
   "execution_count": 19,
   "id": "50934f1d",
   "metadata": {},
   "outputs": [
    {
     "data": {
      "text/plain": [
       "(84397, 26)"
      ]
     },
     "execution_count": 19,
     "metadata": {},
     "output_type": "execute_result"
    }
   ],
   "source": [
    "#Count of total rows and columns\n",
    "eda.shape"
   ]
  },
  {
   "cell_type": "markdown",
   "id": "f025a8bb",
   "metadata": {},
   "source": [
    "#### 3.3.Checking Columns info"
   ]
  },
  {
   "cell_type": "code",
   "execution_count": 12,
   "id": "ae0f4528",
   "metadata": {
    "scrolled": true
   },
   "outputs": [
    {
     "name": "stdout",
     "output_type": "stream",
     "text": [
      "<class 'pandas.core.frame.DataFrame'>\n",
      "RangeIndex: 84397 entries, 0 to 84396\n",
      "Data columns (total 26 columns):\n",
      " #   Column                   Non-Null Count  Dtype  \n",
      "---  ------                   --------------  -----  \n",
      " 0   InsurProductID           84397 non-null  object \n",
      " 1   InsurCustomerID          84397 non-null  int64  \n",
      " 2   Sub Seg                  84397 non-null  object \n",
      " 3   Insurance Currency       84397 non-null  object \n",
      " 4   Insur Sub Name           84230 non-null  object \n",
      " 5   Insur Bank Related       84397 non-null  object \n",
      " 6   Insur PackName           84230 non-null  object \n",
      " 7   Product Status           84397 non-null  object \n",
      " 8   Insur Value              84397 non-null  float64\n",
      " 9   Insur Open Date          75897 non-null  object \n",
      " 10  Insur Cancellation Date  31488 non-null  object \n",
      " 11  Insur end date           376 non-null    object \n",
      " 12  Next Pay Date            74929 non-null  object \n",
      " 13  Last Pay Date            56408 non-null  object \n",
      " 14  NO_OF_TRXNS202005        65810 non-null  float64\n",
      " 15  NO_OF_TRXNS202006        65810 non-null  float64\n",
      " 16  NO_OF_TRXNS202007        65810 non-null  float64\n",
      " 17  NO_OF_TRXNS202008        65810 non-null  float64\n",
      " 18  NO_OF_TRXNS202009        65810 non-null  float64\n",
      " 19  NO_OF_TRXNS202010        65810 non-null  float64\n",
      " 20  TURNOVER202005           65809 non-null  float64\n",
      " 21  TURNOVER202006           65809 non-null  float64\n",
      " 22  TURNOVER202007           65809 non-null  float64\n",
      " 23  TURNOVER202008           65809 non-null  float64\n",
      " 24  TURNOVER202009           65809 non-null  float64\n",
      " 25  TURNOVER202010           65809 non-null  float64\n",
      "dtypes: float64(13), int64(1), object(12)\n",
      "memory usage: 16.7+ MB\n"
     ]
    }
   ],
   "source": [
    "eda.info()"
   ]
  },
  {
   "cell_type": "markdown",
   "id": "852782d0",
   "metadata": {},
   "source": [
    "#### 3.3.2. Quantity of records in each columns."
   ]
  },
  {
   "cell_type": "code",
   "execution_count": 25,
   "id": "bef3c980",
   "metadata": {},
   "outputs": [
    {
     "data": {
      "text/plain": [
       "InsurProductID              6818\n",
       "InsurCustomerID            59832\n",
       "Sub Seg                        8\n",
       "Insurance Currency             2\n",
       "Insur Sub Name                13\n",
       "Insur Bank Related             2\n",
       "Insur PackName                28\n",
       "Product Status                 4\n",
       "Insur Value                  519\n",
       "Insur Open Date             2781\n",
       "Insur Cancellation Date       60\n",
       "Insur end date               155\n",
       "Next Pay Date                196\n",
       "Last Pay Date                292\n",
       "NO_OF_TRXNS202005            309\n",
       "NO_OF_TRXNS202006            309\n",
       "NO_OF_TRXNS202007            326\n",
       "NO_OF_TRXNS202008            440\n",
       "NO_OF_TRXNS202009            474\n",
       "NO_OF_TRXNS202010            465\n",
       "TURNOVER202005             29107\n",
       "TURNOVER202006             28275\n",
       "TURNOVER202007             28341\n",
       "TURNOVER202008             29451\n",
       "TURNOVER202009             29465\n",
       "TURNOVER202010             30557\n",
       "dtype: int64"
      ]
     },
     "execution_count": 25,
     "metadata": {},
     "output_type": "execute_result"
    }
   ],
   "source": [
    "#Records in each columns.\n",
    "eda.nunique()"
   ]
  },
  {
   "cell_type": "markdown",
   "id": "d80c0bb4",
   "metadata": {},
   "source": [
    "#### 3.3.3. Checking Columns, general table info"
   ]
  },
  {
   "cell_type": "code",
   "execution_count": 26,
   "id": "1c417df9",
   "metadata": {
    "scrolled": false
   },
   "outputs": [
    {
     "data": {
      "text/html": [
       "<div>\n",
       "<style scoped>\n",
       "    .dataframe tbody tr th:only-of-type {\n",
       "        vertical-align: middle;\n",
       "    }\n",
       "\n",
       "    .dataframe tbody tr th {\n",
       "        vertical-align: top;\n",
       "    }\n",
       "\n",
       "    .dataframe thead th {\n",
       "        text-align: right;\n",
       "    }\n",
       "</style>\n",
       "<table border=\"1\" class=\"dataframe\">\n",
       "  <thead>\n",
       "    <tr style=\"text-align: right;\">\n",
       "      <th></th>\n",
       "      <th>InsurCustomerID</th>\n",
       "      <th>Insur Value</th>\n",
       "      <th>NO_OF_TRXNS202005</th>\n",
       "      <th>NO_OF_TRXNS202006</th>\n",
       "      <th>NO_OF_TRXNS202007</th>\n",
       "      <th>NO_OF_TRXNS202008</th>\n",
       "      <th>NO_OF_TRXNS202009</th>\n",
       "      <th>NO_OF_TRXNS202010</th>\n",
       "      <th>TURNOVER202005</th>\n",
       "      <th>TURNOVER202006</th>\n",
       "      <th>TURNOVER202007</th>\n",
       "      <th>TURNOVER202008</th>\n",
       "      <th>TURNOVER202009</th>\n",
       "      <th>TURNOVER202010</th>\n",
       "    </tr>\n",
       "  </thead>\n",
       "  <tbody>\n",
       "    <tr>\n",
       "      <th>count</th>\n",
       "      <td>8.439700e+04</td>\n",
       "      <td>84397.000000</td>\n",
       "      <td>65810.000000</td>\n",
       "      <td>65810.000000</td>\n",
       "      <td>65810.000000</td>\n",
       "      <td>65810.000000</td>\n",
       "      <td>65810.000000</td>\n",
       "      <td>65810.000000</td>\n",
       "      <td>6.580900e+04</td>\n",
       "      <td>6.580900e+04</td>\n",
       "      <td>6.580900e+04</td>\n",
       "      <td>6.580900e+04</td>\n",
       "      <td>6.580900e+04</td>\n",
       "      <td>6.580900e+04</td>\n",
       "    </tr>\n",
       "    <tr>\n",
       "      <th>mean</th>\n",
       "      <td>6.005025e+08</td>\n",
       "      <td>165.199356</td>\n",
       "      <td>15.521182</td>\n",
       "      <td>15.713524</td>\n",
       "      <td>16.913858</td>\n",
       "      <td>22.671980</td>\n",
       "      <td>25.239872</td>\n",
       "      <td>25.505972</td>\n",
       "      <td>1.301146e+05</td>\n",
       "      <td>1.345854e+05</td>\n",
       "      <td>1.305475e+05</td>\n",
       "      <td>1.647099e+05</td>\n",
       "      <td>1.628876e+05</td>\n",
       "      <td>1.690857e+05</td>\n",
       "    </tr>\n",
       "    <tr>\n",
       "      <th>std</th>\n",
       "      <td>2.660101e+08</td>\n",
       "      <td>60.405972</td>\n",
       "      <td>31.680277</td>\n",
       "      <td>33.621740</td>\n",
       "      <td>37.077391</td>\n",
       "      <td>62.191828</td>\n",
       "      <td>71.374974</td>\n",
       "      <td>73.766279</td>\n",
       "      <td>3.067887e+06</td>\n",
       "      <td>3.226276e+06</td>\n",
       "      <td>3.108548e+06</td>\n",
       "      <td>4.384427e+06</td>\n",
       "      <td>4.696234e+06</td>\n",
       "      <td>5.279932e+06</td>\n",
       "    </tr>\n",
       "    <tr>\n",
       "      <th>min</th>\n",
       "      <td>1.000106e+08</td>\n",
       "      <td>0.000000</td>\n",
       "      <td>0.000000</td>\n",
       "      <td>0.000000</td>\n",
       "      <td>0.000000</td>\n",
       "      <td>0.000000</td>\n",
       "      <td>0.000000</td>\n",
       "      <td>0.000000</td>\n",
       "      <td>0.000000e+00</td>\n",
       "      <td>0.000000e+00</td>\n",
       "      <td>0.000000e+00</td>\n",
       "      <td>0.000000e+00</td>\n",
       "      <td>0.000000e+00</td>\n",
       "      <td>0.000000e+00</td>\n",
       "    </tr>\n",
       "    <tr>\n",
       "      <th>25%</th>\n",
       "      <td>4.092425e+08</td>\n",
       "      <td>140.000000</td>\n",
       "      <td>1.000000</td>\n",
       "      <td>0.000000</td>\n",
       "      <td>1.000000</td>\n",
       "      <td>1.000000</td>\n",
       "      <td>1.000000</td>\n",
       "      <td>1.000000</td>\n",
       "      <td>0.000000e+00</td>\n",
       "      <td>0.000000e+00</td>\n",
       "      <td>0.000000e+00</td>\n",
       "      <td>2.518519e+01</td>\n",
       "      <td>9.350000e-02</td>\n",
       "      <td>1.195484e-01</td>\n",
       "    </tr>\n",
       "    <tr>\n",
       "      <th>50%</th>\n",
       "      <td>5.899503e+08</td>\n",
       "      <td>196.000000</td>\n",
       "      <td>5.000000</td>\n",
       "      <td>5.000000</td>\n",
       "      <td>6.000000</td>\n",
       "      <td>7.000000</td>\n",
       "      <td>8.000000</td>\n",
       "      <td>8.000000</td>\n",
       "      <td>6.997135e+03</td>\n",
       "      <td>7.064316e+03</td>\n",
       "      <td>7.253000e+03</td>\n",
       "      <td>7.339332e+03</td>\n",
       "      <td>7.736446e+03</td>\n",
       "      <td>7.861677e+03</td>\n",
       "    </tr>\n",
       "    <tr>\n",
       "      <th>75%</th>\n",
       "      <td>9.108958e+08</td>\n",
       "      <td>200.000000</td>\n",
       "      <td>20.000000</td>\n",
       "      <td>20.000000</td>\n",
       "      <td>22.000000</td>\n",
       "      <td>26.000000</td>\n",
       "      <td>29.000000</td>\n",
       "      <td>30.000000</td>\n",
       "      <td>2.600057e+04</td>\n",
       "      <td>2.544638e+04</td>\n",
       "      <td>2.657432e+04</td>\n",
       "      <td>2.666167e+04</td>\n",
       "      <td>2.782963e+04</td>\n",
       "      <td>2.853390e+04</td>\n",
       "    </tr>\n",
       "    <tr>\n",
       "      <th>max</th>\n",
       "      <td>9.999975e+08</td>\n",
       "      <td>200.000000</td>\n",
       "      <td>670.000000</td>\n",
       "      <td>794.000000</td>\n",
       "      <td>1063.000000</td>\n",
       "      <td>2349.000000</td>\n",
       "      <td>2706.000000</td>\n",
       "      <td>2975.000000</td>\n",
       "      <td>2.305498e+08</td>\n",
       "      <td>1.634925e+08</td>\n",
       "      <td>1.581830e+08</td>\n",
       "      <td>2.209784e+08</td>\n",
       "      <td>2.465226e+08</td>\n",
       "      <td>2.798650e+08</td>\n",
       "    </tr>\n",
       "  </tbody>\n",
       "</table>\n",
       "</div>"
      ],
      "text/plain": [
       "       InsurCustomerID   Insur Value  NO_OF_TRXNS202005  NO_OF_TRXNS202006  \\\n",
       "count     8.439700e+04  84397.000000       65810.000000       65810.000000   \n",
       "mean      6.005025e+08    165.199356          15.521182          15.713524   \n",
       "std       2.660101e+08     60.405972          31.680277          33.621740   \n",
       "min       1.000106e+08      0.000000           0.000000           0.000000   \n",
       "25%       4.092425e+08    140.000000           1.000000           0.000000   \n",
       "50%       5.899503e+08    196.000000           5.000000           5.000000   \n",
       "75%       9.108958e+08    200.000000          20.000000          20.000000   \n",
       "max       9.999975e+08    200.000000         670.000000         794.000000   \n",
       "\n",
       "       NO_OF_TRXNS202007  NO_OF_TRXNS202008  NO_OF_TRXNS202009  \\\n",
       "count       65810.000000       65810.000000       65810.000000   \n",
       "mean           16.913858          22.671980          25.239872   \n",
       "std            37.077391          62.191828          71.374974   \n",
       "min             0.000000           0.000000           0.000000   \n",
       "25%             1.000000           1.000000           1.000000   \n",
       "50%             6.000000           7.000000           8.000000   \n",
       "75%            22.000000          26.000000          29.000000   \n",
       "max          1063.000000        2349.000000        2706.000000   \n",
       "\n",
       "       NO_OF_TRXNS202010  TURNOVER202005  TURNOVER202006  TURNOVER202007  \\\n",
       "count       65810.000000    6.580900e+04    6.580900e+04    6.580900e+04   \n",
       "mean           25.505972    1.301146e+05    1.345854e+05    1.305475e+05   \n",
       "std            73.766279    3.067887e+06    3.226276e+06    3.108548e+06   \n",
       "min             0.000000    0.000000e+00    0.000000e+00    0.000000e+00   \n",
       "25%             1.000000    0.000000e+00    0.000000e+00    0.000000e+00   \n",
       "50%             8.000000    6.997135e+03    7.064316e+03    7.253000e+03   \n",
       "75%            30.000000    2.600057e+04    2.544638e+04    2.657432e+04   \n",
       "max          2975.000000    2.305498e+08    1.634925e+08    1.581830e+08   \n",
       "\n",
       "       TURNOVER202008  TURNOVER202009  TURNOVER202010  \n",
       "count    6.580900e+04    6.580900e+04    6.580900e+04  \n",
       "mean     1.647099e+05    1.628876e+05    1.690857e+05  \n",
       "std      4.384427e+06    4.696234e+06    5.279932e+06  \n",
       "min      0.000000e+00    0.000000e+00    0.000000e+00  \n",
       "25%      2.518519e+01    9.350000e-02    1.195484e-01  \n",
       "50%      7.339332e+03    7.736446e+03    7.861677e+03  \n",
       "75%      2.666167e+04    2.782963e+04    2.853390e+04  \n",
       "max      2.209784e+08    2.465226e+08    2.798650e+08  "
      ]
     },
     "execution_count": 26,
     "metadata": {},
     "output_type": "execute_result"
    }
   ],
   "source": [
    "#Check information about tables, data type and table size.\n",
    "eda.describe()"
   ]
  },
  {
   "cell_type": "code",
   "execution_count": 83,
   "id": "1135c500",
   "metadata": {},
   "outputs": [
    {
     "name": "stdout",
     "output_type": "stream",
     "text": [
      "Saving figure attribute_histogram_plots\n"
     ]
    },
    {
     "data": {
      "image/png": "[encoded data removed]",
      "text/plain": [
       "<Figure size 1440x1080 with 16 Axes>"
      ]
     },
     "metadata": {
      "needs_background": "light"
     },
     "output_type": "display_data"
    }
   ],
   "source": [
    "%matplotlib inline\n",
    "import matplotlib.pyplot as plt\n",
    "eda.hist(bins=50, figsize=(20,15))\n",
    "save_fig(\"attribute_histogram_plots\")\n",
    "plt.show()"
   ]
  },
  {
   "cell_type": "markdown",
   "id": "bf23a7bd",
   "metadata": {},
   "source": [
    "#### 3.4. Number of customers in each segmentation."
   ]
  },
  {
   "cell_type": "code",
   "execution_count": 27,
   "id": "ce8fc6f4",
   "metadata": {
    "scrolled": true
   },
   "outputs": [
    {
     "data": {
      "text/plain": [
       "GENNESIS      57805\n",
       "FAMMILY       23773\n",
       "PLATIUM        1800\n",
       "EXCELLENCE      664\n",
       "PMO2            221\n",
       "RELATIVE1       124\n",
       "RELATIVE2         9\n",
       "BIG5              1\n",
       "Name: Sub Seg, dtype: int64"
      ]
     },
     "execution_count": 27,
     "metadata": {},
     "output_type": "execute_result"
    }
   ],
   "source": [
    "#customers in each segmentation.\n",
    "eda[\"Sub Seg\"].value_counts()"
   ]
  },
  {
   "cell_type": "markdown",
   "id": "82949c3a",
   "metadata": {},
   "source": [
    "#### 3.5. Checking Insurance Currency"
   ]
  },
  {
   "cell_type": "code",
   "execution_count": 28,
   "id": "3e10dbe4",
   "metadata": {},
   "outputs": [
    {
     "data": {
      "text/plain": [
       "array(['MZN', 'USD'], dtype=object)"
      ]
     },
     "execution_count": 28,
     "metadata": {},
     "output_type": "execute_result"
    }
   ],
   "source": [
    "#Currencies available for Insurance\n",
    "eda['Insurance Currency'].unique()"
   ]
  },
  {
   "cell_type": "markdown",
   "id": "487a5732",
   "metadata": {},
   "source": [
    "#### 3.6. Correlation Analysis - mulitcollinearity"
   ]
  },
  {
   "cell_type": "code",
   "execution_count": 29,
   "id": "159d3716",
   "metadata": {},
   "outputs": [
    {
     "data": {
      "text/plain": [
       "<AxesSubplot:>"
      ]
     },
     "execution_count": 29,
     "metadata": {},
     "output_type": "execute_result"
    },
    {
     "data": {
      "image/png": "[encoded data removed]",
      "text/plain": [
       "<Figure size 432x288 with 2 Axes>"
      ]
     },
     "metadata": {
      "needs_background": "light"
     },
     "output_type": "display_data"
    }
   ],
   "source": [
    "# Correlation Analysis - Validating date and Looking at mulitcollinearity\n",
    "sns.heatmap(eda.corr())"
   ]
  },
  {
   "cell_type": "markdown",
   "id": "88c3faf9",
   "metadata": {},
   "source": [
    "   "
   ]
  },
  {
   "cell_type": "markdown",
   "id": "d6049b3e",
   "metadata": {},
   "source": [
    "# 4. Discover and Visualize the Data to Gain some Insights\n"
   ]
  },
  {
   "cell_type": "markdown",
   "id": "fa0cace8",
   "metadata": {},
   "source": [
    "    "
   ]
  },
  {
   "cell_type": "markdown",
   "id": "c22dc29f",
   "metadata": {},
   "source": [
    "### 4.1. Univariate function"
   ]
  },
  {
   "cell_type": "code",
   "execution_count": 32,
   "id": "aec9c8fe",
   "metadata": {},
   "outputs": [],
   "source": [
    "#The univariate function will plot parameter values in graphs.\n",
    "\n",
    "\n",
    "def univariate(df,col,vartype,hue =None):    \n",
    "    '''\n",
    "    Univariate function will plot parameter values in graphs.\n",
    "    df      : dataframe name\n",
    "    col     : Column name\n",
    "    vartype : variable type : continuous or categorical\n",
    "                Continuous(0)   : Distribution, Violin & Boxplot will be plotted.\n",
    "                Categorical(1) : Countplot will be plotted.\n",
    "    hue     : Only applicable in categorical analysis.\n",
    "    '''\n",
    "    sns.set(style=\"darkgrid\")\n",
    "    if vartype == 0:\n",
    "        fig, ax=plt.subplots(nrows =1,ncols=3,figsize=(20,8))\n",
    "        ax[0].set_title(\"Distribution Plot\")\n",
    "        sns.distplot(df[col],ax=ax[0])\n",
    "        ax[1].set_title(\"Violin Plot\")\n",
    "        sns.violinplot(data =df, x=col,ax=ax[1], inner=\"quartile\")\n",
    "        ax[2].set_title(\"Box Plot\")\n",
    "        sns.boxplot(data =df, x=col,ax=ax[2],orient='v')\n",
    "    if vartype == 1:\n",
    "        temp = pd.Series(data = hue)\n",
    "        fig, ax = plt.subplots()\n",
    "        width = len(df[col].unique()) + 6 + 4*len(temp.unique())\n",
    "        fig.set_size_inches(width , 7)\n",
    "        ax = sns.countplot(data = df, x= col, order=df[col].value_counts().index,hue = hue) \n",
    "        if len(temp.unique()) > 0:\n",
    "            for p in ax.patches:\n",
    "                ax.annotate('{:1.1f}%'.format((p.get_height()*100)/float(len(eda))), (p.get_x()+0.05, p.get_height()+20))  \n",
    "        else:\n",
    "            for p in ax.patches:\n",
    "                ax.annotate(p.get_height(), (p.get_x()+0.32, p.get_height()+20)) \n",
    "        del temp\n",
    "    else:\n",
    "        exit\n",
    "    plt.show()"
   ]
  },
  {
   "cell_type": "markdown",
   "id": "b45e38fa",
   "metadata": {},
   "source": [
    "### 4.2. Customer Segmentation histogram"
   ]
  },
  {
   "cell_type": "code",
   "execution_count": 38,
   "id": "a942a13f",
   "metadata": {},
   "outputs": [
    {
     "data": {
      "image/png": "[encoded data removed]",
      "text/plain": [
       "<Figure size 1008x504 with 1 Axes>"
      ]
     },
     "metadata": {},
     "output_type": "display_data"
    }
   ],
   "source": [
    "#Segmentation histogram\n",
    "univariate(df=eda,col='Sub Seg',vartype=1)"
   ]
  },
  {
   "cell_type": "markdown",
   "id": "0d8ca69a",
   "metadata": {},
   "source": [
    "### 4.3. Quantity of products purchased acquired per customer\n",
    "\n"
   ]
  },
  {
   "cell_type": "code",
   "execution_count": 39,
   "id": "4f748db4",
   "metadata": {},
   "outputs": [
    {
     "data": {
      "image/png": "[encoded data removed]",
      "text/plain": [
       "<Figure size 1440x504 with 1 Axes>"
      ]
     },
     "metadata": {},
     "output_type": "display_data"
    }
   ],
   "source": [
    "#Quantity of products per customer\n",
    "univariate(df=eda,col='Insur Sub Name',vartype=1)"
   ]
  },
  {
   "cell_type": "markdown",
   "id": "e2afdfca",
   "metadata": {},
   "source": [
    "### 4.4. Percentage Segmentation through Product  "
   ]
  },
  {
   "cell_type": "code",
   "execution_count": 44,
   "id": "3d4b5189",
   "metadata": {},
   "outputs": [
    {
     "data": {
      "image/png": "[encoded data removed]",
      "text/plain": [
       "<Figure size 1296x504 with 1 Axes>"
      ]
     },
     "metadata": {},
     "output_type": "display_data"
    }
   ],
   "source": [
    "#Segmentation by products\n",
    "univariate(df=eda,col='Sub Seg',vartype=1,hue='Insur Sub Name')"
   ]
  },
  {
   "cell_type": "markdown",
   "id": "af60d5c6",
   "metadata": {},
   "source": [
    "#### INSIGHTS: Encourage through the FAMMILY segmentation to purchase life insurance and hospital plan products."
   ]
  },
  {
   "cell_type": "markdown",
   "id": "0faf7037",
   "metadata": {},
   "source": [
    "  "
   ]
  },
  {
   "cell_type": "markdown",
   "id": "d0947d16",
   "metadata": {},
   "source": [
    "  "
   ]
  },
  {
   "cell_type": "markdown",
   "id": "a08d671c",
   "metadata": {},
   "source": [
    "## 5. Collaborative filtering for product recommender systems"
   ]
  },
  {
   "cell_type": "markdown",
   "id": "50c101b5",
   "metadata": {},
   "source": [
    "### 5.1. Load summarized data "
   ]
  },
  {
   "cell_type": "code",
   "execution_count": 66,
   "id": "a7d135e1",
   "metadata": {},
   "outputs": [
    {
     "data": {
      "text/html": [
       "<div>\n",
       "<style scoped>\n",
       "    .dataframe tbody tr th:only-of-type {\n",
       "        vertical-align: middle;\n",
       "    }\n",
       "\n",
       "    .dataframe tbody tr th {\n",
       "        vertical-align: top;\n",
       "    }\n",
       "\n",
       "    .dataframe thead th {\n",
       "        text-align: right;\n",
       "    }\n",
       "</style>\n",
       "<table border=\"1\" class=\"dataframe\">\n",
       "  <thead>\n",
       "    <tr style=\"text-align: right;\">\n",
       "      <th></th>\n",
       "      <th>InsurCustomerID</th>\n",
       "      <th>Insur Sub Name</th>\n",
       "      <th>Sub Seg</th>\n",
       "      <th>NO_OF_TRXNS202005</th>\n",
       "    </tr>\n",
       "  </thead>\n",
       "  <tbody>\n",
       "    <tr>\n",
       "      <th>0</th>\n",
       "      <td>475143751</td>\n",
       "      <td>SEGURO DE VIDA</td>\n",
       "      <td>EXCELLENCE</td>\n",
       "      <td>56.0</td>\n",
       "    </tr>\n",
       "    <tr>\n",
       "      <th>1</th>\n",
       "      <td>475143751</td>\n",
       "      <td>SEGURO DE INC�NDIO HABITA��O</td>\n",
       "      <td>EXCELLENCE</td>\n",
       "      <td>56.0</td>\n",
       "    </tr>\n",
       "    <tr>\n",
       "      <th>2</th>\n",
       "      <td>628865188</td>\n",
       "      <td>PLANO SALARIO</td>\n",
       "      <td>GENNESIS</td>\n",
       "      <td>9.0</td>\n",
       "    </tr>\n",
       "    <tr>\n",
       "      <th>3</th>\n",
       "      <td>169913599</td>\n",
       "      <td>NaN</td>\n",
       "      <td>PMO2</td>\n",
       "      <td>NaN</td>\n",
       "    </tr>\n",
       "    <tr>\n",
       "      <th>4</th>\n",
       "      <td>558654486</td>\n",
       "      <td>NaN</td>\n",
       "      <td>FAMMILY</td>\n",
       "      <td>53.0</td>\n",
       "    </tr>\n",
       "  </tbody>\n",
       "</table>\n",
       "</div>"
      ],
      "text/plain": [
       "   InsurCustomerID                Insur Sub Name     Sub Seg  \\\n",
       "0        475143751                SEGURO DE VIDA  EXCELLENCE   \n",
       "1        475143751  SEGURO DE INC�NDIO HABITA��O  EXCELLENCE   \n",
       "2        628865188                 PLANO SALARIO    GENNESIS   \n",
       "3        169913599                           NaN        PMO2   \n",
       "4        558654486                           NaN     FAMMILY   \n",
       "\n",
       "   NO_OF_TRXNS202005  \n",
       "0               56.0  \n",
       "1               56.0  \n",
       "2                9.0  \n",
       "3                NaN  \n",
       "4               53.0  "
      ]
     },
     "execution_count": 66,
     "metadata": {},
     "output_type": "execute_result"
    }
   ],
   "source": [
    "#Load summarized data \n",
    "eda_cleaned = eda[['InsurCustomerID', 'Insur Sub Name', 'Sub Seg', 'NO_OF_TRXNS202005']]\n",
    "eda_cleaned.head(5)"
   ]
  },
  {
   "cell_type": "markdown",
   "id": "85932d3b",
   "metadata": {},
   "source": [
    "### 5.2. Examine the most popular products"
   ]
  },
  {
   "cell_type": "code",
   "execution_count": 67,
   "id": "b8cca6df",
   "metadata": {},
   "outputs": [
    {
     "data": {
      "text/html": [
       "<div>\n",
       "<style scoped>\n",
       "    .dataframe tbody tr th:only-of-type {\n",
       "        vertical-align: middle;\n",
       "    }\n",
       "\n",
       "    .dataframe tbody tr th {\n",
       "        vertical-align: top;\n",
       "    }\n",
       "\n",
       "    .dataframe thead th {\n",
       "        text-align: right;\n",
       "    }\n",
       "</style>\n",
       "<table border=\"1\" class=\"dataframe\">\n",
       "  <thead>\n",
       "    <tr style=\"text-align: right;\">\n",
       "      <th></th>\n",
       "      <th>orders</th>\n",
       "      <th>quantity</th>\n",
       "    </tr>\n",
       "    <tr>\n",
       "      <th>Insur Sub Name</th>\n",
       "      <th></th>\n",
       "      <th></th>\n",
       "    </tr>\n",
       "  </thead>\n",
       "  <tbody>\n",
       "    <tr>\n",
       "      <th>PLANO FUNERAL</th>\n",
       "      <td>26145</td>\n",
       "      <td>358849.0</td>\n",
       "    </tr>\n",
       "    <tr>\n",
       "      <th>PLANO VIDA STANDALONE</th>\n",
       "      <td>17077</td>\n",
       "      <td>213009.0</td>\n",
       "    </tr>\n",
       "    <tr>\n",
       "      <th>PLANO SALARIO</th>\n",
       "      <td>15802</td>\n",
       "      <td>201919.0</td>\n",
       "    </tr>\n",
       "    <tr>\n",
       "      <th>PLANO HOSPITAL</th>\n",
       "      <td>9852</td>\n",
       "      <td>188637.0</td>\n",
       "    </tr>\n",
       "    <tr>\n",
       "      <th>SEGURO DE CR�DITO AO CONSUMO</th>\n",
       "      <td>7777</td>\n",
       "      <td>45838.0</td>\n",
       "    </tr>\n",
       "    <tr>\n",
       "      <th>SEGURO DE VIDA</th>\n",
       "      <td>228</td>\n",
       "      <td>3786.0</td>\n",
       "    </tr>\n",
       "    <tr>\n",
       "      <th>SEGURO DE INC�NDIO HABITA��O</th>\n",
       "      <td>224</td>\n",
       "      <td>2266.0</td>\n",
       "    </tr>\n",
       "    <tr>\n",
       "      <th>PLANO BIZSURE</th>\n",
       "      <td>36</td>\n",
       "      <td>0.0</td>\n",
       "    </tr>\n",
       "    <tr>\n",
       "      <th>PLANO PROPERTY</th>\n",
       "      <td>30</td>\n",
       "      <td>0.0</td>\n",
       "    </tr>\n",
       "    <tr>\n",
       "      <th>PLANO WCA</th>\n",
       "      <td>11</td>\n",
       "      <td>0.0</td>\n",
       "    </tr>\n",
       "    <tr>\n",
       "      <th>PLANO GROUP RISK</th>\n",
       "      <td>8</td>\n",
       "      <td>0.0</td>\n",
       "    </tr>\n",
       "    <tr>\n",
       "      <th>PLANO MARINE</th>\n",
       "      <td>8</td>\n",
       "      <td>0.0</td>\n",
       "    </tr>\n",
       "    <tr>\n",
       "      <th>SEGURO VIAGEM</th>\n",
       "      <td>5</td>\n",
       "      <td>0.0</td>\n",
       "    </tr>\n",
       "  </tbody>\n",
       "</table>\n",
       "</div>"
      ],
      "text/plain": [
       "                              orders  quantity\n",
       "Insur Sub Name                                \n",
       "PLANO FUNERAL                  26145  358849.0\n",
       "PLANO VIDA STANDALONE          17077  213009.0\n",
       "PLANO SALARIO                  15802  201919.0\n",
       "PLANO HOSPITAL                  9852  188637.0\n",
       "SEGURO DE CR�DITO AO CONSUMO    7777   45838.0\n",
       "SEGURO DE VIDA                   228    3786.0\n",
       "SEGURO DE INC�NDIO HABITA��O     224    2266.0\n",
       "PLANO BIZSURE                     36       0.0\n",
       "PLANO PROPERTY                    30       0.0\n",
       "PLANO WCA                         11       0.0\n",
       "PLANO GROUP RISK                   8       0.0\n",
       "PLANO MARINE                       8       0.0\n",
       "SEGURO VIAGEM                      5       0.0"
      ]
     },
     "execution_count": 67,
     "metadata": {},
     "output_type": "execute_result"
    }
   ],
   "source": [
    "#Examine the most popular products\n",
    "eda.groupby('Insur Sub Name').agg(\n",
    "    orders=('InsurCustomerID', 'nunique'),\n",
    "    quantity=('NO_OF_TRXNS202005', 'sum')\n",
    ").sort_values(by='orders', ascending=False).head(15)"
   ]
  },
  {
   "cell_type": "markdown",
   "id": "ddefd3cb",
   "metadata": {},
   "source": [
    "### 5.3. Create an item matrix"
   ]
  },
  {
   "cell_type": "code",
   "execution_count": 68,
   "id": "4629a25e",
   "metadata": {},
   "outputs": [
    {
     "data": {
      "text/html": [
       "<div>\n",
       "<style scoped>\n",
       "    .dataframe tbody tr th:only-of-type {\n",
       "        vertical-align: middle;\n",
       "    }\n",
       "\n",
       "    .dataframe tbody tr th {\n",
       "        vertical-align: top;\n",
       "    }\n",
       "\n",
       "    .dataframe thead th {\n",
       "        text-align: right;\n",
       "    }\n",
       "</style>\n",
       "<table border=\"1\" class=\"dataframe\">\n",
       "  <thead>\n",
       "    <tr style=\"text-align: right;\">\n",
       "      <th>Insur Sub Name</th>\n",
       "      <th>PLANO FUNERAL</th>\n",
       "      <th>PLANO HOSPITAL</th>\n",
       "      <th>PLANO SALARIO</th>\n",
       "      <th>PLANO VIDA STANDALONE</th>\n",
       "      <th>SEGURO DE CR�DITO AO CONSUMO</th>\n",
       "      <th>SEGURO DE INC�NDIO HABITA��O</th>\n",
       "      <th>SEGURO DE VIDA</th>\n",
       "    </tr>\n",
       "    <tr>\n",
       "      <th>InsurCustomerID</th>\n",
       "      <th></th>\n",
       "      <th></th>\n",
       "      <th></th>\n",
       "      <th></th>\n",
       "      <th></th>\n",
       "      <th></th>\n",
       "      <th></th>\n",
       "    </tr>\n",
       "  </thead>\n",
       "  <tbody>\n",
       "    <tr>\n",
       "      <th>100010600</th>\n",
       "      <td>20.0</td>\n",
       "      <td>20.0</td>\n",
       "      <td>0.0</td>\n",
       "      <td>0.0</td>\n",
       "      <td>0.0</td>\n",
       "      <td>0.0</td>\n",
       "      <td>0.0</td>\n",
       "    </tr>\n",
       "    <tr>\n",
       "      <th>100019100</th>\n",
       "      <td>0.0</td>\n",
       "      <td>0.0</td>\n",
       "      <td>0.0</td>\n",
       "      <td>24.0</td>\n",
       "      <td>0.0</td>\n",
       "      <td>0.0</td>\n",
       "      <td>0.0</td>\n",
       "    </tr>\n",
       "    <tr>\n",
       "      <th>100117401</th>\n",
       "      <td>17.0</td>\n",
       "      <td>0.0</td>\n",
       "      <td>0.0</td>\n",
       "      <td>0.0</td>\n",
       "      <td>0.0</td>\n",
       "      <td>0.0</td>\n",
       "      <td>0.0</td>\n",
       "    </tr>\n",
       "    <tr>\n",
       "      <th>100118401</th>\n",
       "      <td>42.0</td>\n",
       "      <td>0.0</td>\n",
       "      <td>0.0</td>\n",
       "      <td>0.0</td>\n",
       "      <td>0.0</td>\n",
       "      <td>0.0</td>\n",
       "      <td>0.0</td>\n",
       "    </tr>\n",
       "    <tr>\n",
       "      <th>100118701</th>\n",
       "      <td>0.0</td>\n",
       "      <td>0.0</td>\n",
       "      <td>0.0</td>\n",
       "      <td>0.0</td>\n",
       "      <td>4.0</td>\n",
       "      <td>0.0</td>\n",
       "      <td>0.0</td>\n",
       "    </tr>\n",
       "    <tr>\n",
       "      <th>100210602</th>\n",
       "      <td>95.0</td>\n",
       "      <td>95.0</td>\n",
       "      <td>0.0</td>\n",
       "      <td>0.0</td>\n",
       "      <td>0.0</td>\n",
       "      <td>0.0</td>\n",
       "      <td>0.0</td>\n",
       "    </tr>\n",
       "    <tr>\n",
       "      <th>100214502</th>\n",
       "      <td>0.0</td>\n",
       "      <td>0.0</td>\n",
       "      <td>0.0</td>\n",
       "      <td>6.0</td>\n",
       "      <td>0.0</td>\n",
       "      <td>0.0</td>\n",
       "      <td>0.0</td>\n",
       "    </tr>\n",
       "    <tr>\n",
       "      <th>100216702</th>\n",
       "      <td>3.0</td>\n",
       "      <td>0.0</td>\n",
       "      <td>0.0</td>\n",
       "      <td>0.0</td>\n",
       "      <td>0.0</td>\n",
       "      <td>0.0</td>\n",
       "      <td>0.0</td>\n",
       "    </tr>\n",
       "    <tr>\n",
       "      <th>100219202</th>\n",
       "      <td>0.0</td>\n",
       "      <td>12.0</td>\n",
       "      <td>0.0</td>\n",
       "      <td>0.0</td>\n",
       "      <td>0.0</td>\n",
       "      <td>0.0</td>\n",
       "      <td>0.0</td>\n",
       "    </tr>\n",
       "    <tr>\n",
       "      <th>100219402</th>\n",
       "      <td>0.0</td>\n",
       "      <td>32.0</td>\n",
       "      <td>0.0</td>\n",
       "      <td>0.0</td>\n",
       "      <td>0.0</td>\n",
       "      <td>0.0</td>\n",
       "      <td>0.0</td>\n",
       "    </tr>\n",
       "  </tbody>\n",
       "</table>\n",
       "</div>"
      ],
      "text/plain": [
       "Insur Sub Name   PLANO FUNERAL  PLANO HOSPITAL  PLANO SALARIO  \\\n",
       "InsurCustomerID                                                 \n",
       "100010600                 20.0            20.0            0.0   \n",
       "100019100                  0.0             0.0            0.0   \n",
       "100117401                 17.0             0.0            0.0   \n",
       "100118401                 42.0             0.0            0.0   \n",
       "100118701                  0.0             0.0            0.0   \n",
       "100210602                 95.0            95.0            0.0   \n",
       "100214502                  0.0             0.0            0.0   \n",
       "100216702                  3.0             0.0            0.0   \n",
       "100219202                  0.0            12.0            0.0   \n",
       "100219402                  0.0            32.0            0.0   \n",
       "\n",
       "Insur Sub Name   PLANO VIDA STANDALONE  SEGURO DE CR�DITO AO CONSUMO  \\\n",
       "InsurCustomerID                                                        \n",
       "100010600                          0.0                           0.0   \n",
       "100019100                         24.0                           0.0   \n",
       "100117401                          0.0                           0.0   \n",
       "100118401                          0.0                           0.0   \n",
       "100118701                          0.0                           4.0   \n",
       "100210602                          0.0                           0.0   \n",
       "100214502                          6.0                           0.0   \n",
       "100216702                          0.0                           0.0   \n",
       "100219202                          0.0                           0.0   \n",
       "100219402                          0.0                           0.0   \n",
       "\n",
       "Insur Sub Name   SEGURO DE INC�NDIO HABITA��O  SEGURO DE VIDA  \n",
       "InsurCustomerID                                                \n",
       "100010600                                 0.0             0.0  \n",
       "100019100                                 0.0             0.0  \n",
       "100117401                                 0.0             0.0  \n",
       "100118401                                 0.0             0.0  \n",
       "100118701                                 0.0             0.0  \n",
       "100210602                                 0.0             0.0  \n",
       "100214502                                 0.0             0.0  \n",
       "100216702                                 0.0             0.0  \n",
       "100219202                                 0.0             0.0  \n",
       "100219402                                 0.0             0.0  "
      ]
     },
     "execution_count": 68,
     "metadata": {},
     "output_type": "execute_result"
    }
   ],
   "source": [
    "eda_items = eda.pivot_table(index='InsurCustomerID', columns=['Insur Sub Name'], values='NO_OF_TRXNS202005').fillna(0)\n",
    "eda_items.head(10)"
   ]
  },
  {
   "cell_type": "markdown",
   "id": "4cdb882c",
   "metadata": {},
   "source": [
    "### 5.4. Create product recommendations\n"
   ]
  },
  {
   "cell_type": "code",
   "execution_count": 69,
   "id": "95db0e6e",
   "metadata": {},
   "outputs": [],
   "source": [
    "def get_recommendations(eda, item):\n",
    "    \"\"\"Generate a set of product recommendations using item-based collaborative filtering.\n",
    "    \n",
    "    Args:\n",
    "        df (dataframe): Pandas dataframe containing matrix of items purchased.\n",
    "        item (string): Column name for target item. \n",
    "        \n",
    "    Returns: \n",
    "        recommendations (dataframe): Pandas dataframe containing product recommendations. \n",
    "    \"\"\"\n",
    "    \n",
    "    recommendations = eda.corrwith(eda[item])\n",
    "    recommendations.dropna(inplace=True)\n",
    "    recommendations = pd.DataFrame(recommendations, columns=['correlation']).reset_index()\n",
    "    recommendations = recommendations.sort_values(by='correlation', ascending=False)\n",
    "    \n",
    "    return recommendations"
   ]
  },
  {
   "cell_type": "markdown",
   "id": "531bd78b",
   "metadata": {},
   "source": [
    "#### 5.4.1. Reading product recommendations by the most purchased"
   ]
  },
  {
   "cell_type": "code",
   "execution_count": 70,
   "id": "a7b1b180",
   "metadata": {
    "scrolled": true
   },
   "outputs": [
    {
     "data": {
      "text/html": [
       "<div>\n",
       "<style scoped>\n",
       "    .dataframe tbody tr th:only-of-type {\n",
       "        vertical-align: middle;\n",
       "    }\n",
       "\n",
       "    .dataframe tbody tr th {\n",
       "        vertical-align: top;\n",
       "    }\n",
       "\n",
       "    .dataframe thead th {\n",
       "        text-align: right;\n",
       "    }\n",
       "</style>\n",
       "<table border=\"1\" class=\"dataframe\">\n",
       "  <thead>\n",
       "    <tr style=\"text-align: right;\">\n",
       "      <th></th>\n",
       "      <th>Insur Sub Name</th>\n",
       "      <th>correlation</th>\n",
       "    </tr>\n",
       "  </thead>\n",
       "  <tbody>\n",
       "    <tr>\n",
       "      <th>1</th>\n",
       "      <td>PLANO HOSPITAL</td>\n",
       "      <td>1.000000</td>\n",
       "    </tr>\n",
       "    <tr>\n",
       "      <th>0</th>\n",
       "      <td>PLANO FUNERAL</td>\n",
       "      <td>0.258229</td>\n",
       "    </tr>\n",
       "    <tr>\n",
       "      <th>3</th>\n",
       "      <td>PLANO VIDA STANDALONE</td>\n",
       "      <td>0.154507</td>\n",
       "    </tr>\n",
       "    <tr>\n",
       "      <th>2</th>\n",
       "      <td>PLANO SALARIO</td>\n",
       "      <td>0.034827</td>\n",
       "    </tr>\n",
       "    <tr>\n",
       "      <th>5</th>\n",
       "      <td>SEGURO DE INC�NDIO HABITA��O</td>\n",
       "      <td>-0.002885</td>\n",
       "    </tr>\n",
       "  </tbody>\n",
       "</table>\n",
       "</div>"
      ],
      "text/plain": [
       "                 Insur Sub Name  correlation\n",
       "1                PLANO HOSPITAL     1.000000\n",
       "0                 PLANO FUNERAL     0.258229\n",
       "3         PLANO VIDA STANDALONE     0.154507\n",
       "2                 PLANO SALARIO     0.034827\n",
       "5  SEGURO DE INC�NDIO HABITA��O    -0.002885"
      ]
     },
     "execution_count": 70,
     "metadata": {},
     "output_type": "execute_result"
    }
   ],
   "source": [
    "recommendations = get_recommendations(eda_items, 'PLANO HOSPITAL')\n",
    "recommendations.head()"
   ]
  },
  {
   "cell_type": "markdown",
   "id": "a46658cb",
   "metadata": {},
   "source": [
    "#### 5.4.2. Reading product recommendations by the least purchased"
   ]
  },
  {
   "cell_type": "code",
   "execution_count": null,
   "id": "6f4c132c",
   "metadata": {},
   "outputs": [],
   "source": [
    "recommendations = get_recommendations(eda_items, 'SEGURO VIAGEM')\n",
    "recommendations.head()"
   ]
  },
  {
   "cell_type": "markdown",
   "id": "0b03758a",
   "metadata": {},
   "source": [
    "## The cold start problem"
   ]
  },
  {
   "cell_type": "markdown",
   "id": "942ca6bd",
   "metadata": {},
   "source": [
    "##### When products are new, and few customers have purchased them, the amount of information available to recommender systems can be too low to calculate a correlation and the products may not appear within recommendations. This is known as the “cold start”. It takes a time for products to warm up and generate enough data to allow recommender systems to produce relevant results."
   ]
  },
  {
   "cell_type": "markdown",
   "id": "942364e9",
   "metadata": {},
   "source": [
    "### 6. Prepare the Data for Machine Learning Algorithms\n"
   ]
  },
  {
   "cell_type": "code",
   "execution_count": null,
   "id": "f3774a2e",
   "metadata": {},
   "outputs": [],
   "source": [
    "from sklearn.model_selection import StratifiedShuffleSplit\n",
    "\n",
    "split = StratifiedShuffleSplit(n_splits=1, test_size=0.2, random_state=42)\n",
    "for train_index, test_index in split.split(eda, eda[\"NO_OF_TRXNS202005\"]):\n",
    "    strat_train_set = eda.loc[train_index]\n",
    "    strat_test_set = eda.loc[test_index]\n",
    "    \n",
    "#eda = strat_train_set.drop(\"NO_OF_TRXNS202005\", axis=1) # drop labels for training set\n",
    "#eda_labels = strat_train_set[\"NO_OF_TRXNS202005\"].copy()"
   ]
  },
  {
   "cell_type": "markdown",
   "id": "025d0625",
   "metadata": {},
   "source": [
    "# The End - Jeremias Tivane"
   ]
  },
  {
   "cell_type": "code",
   "execution_count": null,
   "id": "f62f6f69",
   "metadata": {},
   "outputs": [],
   "source": []
  }
 ],
 "metadata": {
  "kernelspec": {
   "display_name": "Python 3",
   "language": "python",
   "name": "python3"
  },
  "language_info": {
   "codemirror_mode": {
    "name": "ipython",
    "version": 3
   },
   "file_extension": ".py",
   "mimetype": "text/x-python",
   "name": "python",
   "nbconvert_exporter": "python",
   "pygments_lexer": "ipython3",
   "version": "3.8.8"
  }
 },
 "nbformat": 4,
 "nbformat_minor": 5
}
